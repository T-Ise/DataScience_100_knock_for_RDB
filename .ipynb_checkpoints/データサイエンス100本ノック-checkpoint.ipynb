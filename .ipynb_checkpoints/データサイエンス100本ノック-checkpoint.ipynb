{
 "cells": [
  {
   "cell_type": "markdown",
   "metadata": {
    "id": "2-YYpD4Nhhxd"
   },
   "source": [
    "# データサイエンス100本ノック（構造化データ加工演習）"
   ]
  },
  {
   "cell_type": "code",
   "execution_count": null,
   "metadata": {
    "colab": {
     "base_uri": "https://localhost:8080/"
    },
    "id": "k_rQuDF8hhxg",
    "outputId": "e0b89f95-632d-4aa6-8c7b-05f479470b71"
   },
   "outputs": [],
   "source": [
    "import os\n",
    "import pandas as pd\n",
    "import numpy as np\n",
    "from datetime import datetime, date\n",
    "from dateutil.relativedelta import relativedelta\n",
    "import math\n",
    "import sklearn\n",
    "import pathlib as Path\n",
    "\n",
    "from IPython.core.interactiveshell import InteractiveShell\n",
    "InteractiveShell.ast_node_interactivity = \"all\""
   ]
  },
  {
   "cell_type": "markdown",
   "metadata": {
    "id": "EMvNeX6Qhhxk"
   },
   "source": [
    "# 演習問題"
   ]
  },
  {
   "cell_type": "markdown",
   "metadata": {
    "id": "0O8VN432OWFZ"
   },
   "source": [
    "---\n",
    "> P-000: dataフォルダ配下にある以下のpickle化されたデータを読み込み、データフレームを作成せよ。  \n",
    "変数名はファイル名から拡張子を除いたものとする。\n",
    "- category_df.pkl\n",
    "- customer_df.pkl\n",
    "- geocode_df.pkl\n",
    "- product_df.pkl\n",
    "- receipt_df.pkl\n",
    "- store_df.pkl"
   ]
  },
  {
   "cell_type": "code",
   "execution_count": null,
   "metadata": {},
   "outputs": [],
   "source": []
  },
  {
   "cell_type": "markdown",
   "metadata": {
    "id": "0O8VN432OWFZ"
   },
   "source": [
    "## 第一回\n",
    "---\n",
    "> P-001: レシート明細のデータフレーム（receipt_df）から全項目の先頭10件を表示し、どのようなデータを保有しているか目視で確認せよ。"
   ]
  },
  {
   "cell_type": "code",
   "execution_count": null,
   "metadata": {
    "colab": {
     "base_uri": "https://localhost:8080/",
     "height": 359
    },
    "id": "Iv-T6dZrOWFv",
    "outputId": "324ae777-a2cb-4ef4-bc14-ae024794c973"
   },
   "outputs": [],
   "source": []
  },
  {
   "cell_type": "markdown",
   "metadata": {
    "id": "c_ND2Ti0OWFw"
   },
   "source": [
    "---\n",
    "> P-002: レシート明細のデータフレーム（receipt_df）から売上日（sales_ymd）、顧客ID（customer_id）、商品コード（product_cd）、売上金額（amount）の順に列を指定し、10件表示させよ。"
   ]
  },
  {
   "cell_type": "code",
   "execution_count": null,
   "metadata": {
    "colab": {
     "base_uri": "https://localhost:8080/",
     "height": 359
    },
    "id": "ia4Ot0i3OWFw",
    "outputId": "7e442070-a50c-483c-da7c-b564113fe1f2"
   },
   "outputs": [],
   "source": []
  },
  {
   "cell_type": "markdown",
   "metadata": {
    "id": "EhxTQC36OWFw"
   },
   "source": [
    "---\n",
    "> P-003: レシート明細のデータフレーム（receipt_df）から売上日（sales_ymd）、顧客ID（customer_id）、商品コード（product_cd）、売上金額（amount）の順に列を指定し、10件表示させよ。  \n",
    "ただし、sales_ymdはsales_dateに項目名を変更しながら抽出すること。"
   ]
  },
  {
   "cell_type": "code",
   "execution_count": null,
   "metadata": {
    "colab": {
     "base_uri": "https://localhost:8080/",
     "height": 359
    },
    "id": "-gbUN0Y4OWFw",
    "outputId": "6a3ac952-a513-4da7-89fd-b3fb6c965804"
   },
   "outputs": [],
   "source": []
  },
  {
   "cell_type": "markdown",
   "metadata": {
    "id": "dU7yiEtlOWFx"
   },
   "source": [
    "---\n",
    "> P-004: レシート明細のデータフレーム（receipt_df）から売上日（sales_ymd）、顧客ID（customer_id）、商品コード（product_cd）、売上金額（amount）の順に列を指定し、以下の条件を満たすデータを抽出せよ。\n",
    "> - 顧客ID（customer_id）が\"CS018205000001\""
   ]
  },
  {
   "cell_type": "code",
   "execution_count": null,
   "metadata": {
    "colab": {
     "base_uri": "https://localhost:8080/",
     "height": 421
    },
    "id": "56QX_eFdOWFx",
    "outputId": "d8dab501-6d50-4495-c6eb-74412e5ddc44"
   },
   "outputs": [],
   "source": []
  },
  {
   "cell_type": "markdown",
   "metadata": {
    "id": "ixcxOUxROWFy"
   },
   "source": [
    "---\n",
    "> P-005: レシート明細のデータフレーム（receipt_df）から売上日（sales_ymd）、顧客ID（customer_id）、商品コード（product_cd）、売上金額（amount）の順に列を指定し、以下の条件を満たすデータを抽出せよ。\n",
    "> - 顧客ID（customer_id）が\"CS018205000001\"\n",
    "> - 売上金額（amount）が1,000以上"
   ]
  },
  {
   "cell_type": "code",
   "execution_count": null,
   "metadata": {
    "colab": {
     "base_uri": "https://localhost:8080/",
     "height": 142
    },
    "id": "r6pG41mIOWFy",
    "outputId": "51a646ae-d984-4b13-faa8-638079955112"
   },
   "outputs": [],
   "source": []
  },
  {
   "cell_type": "markdown",
   "metadata": {
    "id": "OGvwqLPDOWFy"
   },
   "source": [
    "---\n",
    "> P-006: レシート明細データフレーム「receipt_df」から売上日（sales_ymd）、顧客ID（customer_id）、商品コード（product_cd）、売上数量（quantity）、売上金額（amount）の順に列を指定し、以下の条件を満たすデータを抽出せよ。\n",
    "> - 顧客ID（customer_id）が\"CS018205000001\"\n",
    "> - 売上金額（amount）が1,000以上または売上数量（quantity）が5以上"
   ]
  },
  {
   "cell_type": "code",
   "execution_count": null,
   "metadata": {
    "colab": {
     "base_uri": "https://localhost:8080/",
     "height": 238
    },
    "id": "iWg-ZlJUOWFz",
    "outputId": "85283102-9c2f-4ad1-dcba-8428c51ec5db"
   },
   "outputs": [],
   "source": []
  },
  {
   "cell_type": "markdown",
   "metadata": {
    "id": "3ZUem8rbOWFz"
   },
   "source": [
    "---\n",
    "> P-007: レシート明細のデータフレーム（receipt_df）から売上日（sales_ymd）、顧客ID（customer_id）、商品コード（product_cd）、売上金額（amount）の順に列を指定し、以下の条件を満たすデータを抽出せよ。\n",
    "> - 顧客ID（customer_id）が\"CS018205000001\"\n",
    "> - 売上金額（amount）が1,000以上2,000以下"
   ]
  },
  {
   "cell_type": "code",
   "execution_count": null,
   "metadata": {
    "colab": {
     "base_uri": "https://localhost:8080/",
     "height": 80
    },
    "id": "24lPOyCxOWFz",
    "outputId": "9e16caa1-22c0-4c41-bb19-fe47ad92529a"
   },
   "outputs": [],
   "source": []
  },
  {
   "cell_type": "markdown",
   "metadata": {
    "id": "0_GPi7OJOWF0"
   },
   "source": [
    "---\n",
    "> P-008: レシート明細のデータフレーム（receipt_df）から売上日（sales_ymd）、顧客ID（customer_id）、商品コード（product_cd）、売上金額（amount）の順に列を指定し、以下の条件を満たすデータを抽出せよ。\n",
    "> - 顧客ID（customer_id）が\"CS018205000001\"\n",
    "> - 商品コード（product_cd）が\"P060104007\"以外"
   ]
  },
  {
   "cell_type": "code",
   "execution_count": null,
   "metadata": {
    "colab": {
     "base_uri": "https://localhost:8080/",
     "height": 421
    },
    "id": "od1hlKKOOWF0",
    "outputId": "9cd03133-553d-432a-e50f-93509ae8a357"
   },
   "outputs": [],
   "source": []
  },
  {
   "cell_type": "markdown",
   "metadata": {
    "id": "Hyj8gyztOWF0"
   },
   "source": [
    "---\n",
    "> P-009: 以下の処理において、出力結果を変えずにORをANDに書き換えよ。\n",
    "\n",
    "`store_df.query('not(prefecture_cd == \"13\" | floor_area > 900)')`"
   ]
  },
  {
   "cell_type": "code",
   "execution_count": null,
   "metadata": {
    "colab": {
     "base_uri": "https://localhost:8080/",
     "height": 328
    },
    "id": "YVrdaNvaJClI",
    "outputId": "195a5d6e-4fdf-46ed-c7d4-7ce23b312f47"
   },
   "outputs": [],
   "source": []
  },
  {
   "cell_type": "markdown",
   "metadata": {
    "id": "OnfnqYBaOWF1"
   },
   "source": [
    "---\n",
    "> P-010: 店舗データフレーム（store_df）から、店舗コード（store_cd）が\"S14\"で始まるものだけ全項目抽出し、10件だけ表示せよ。"
   ]
  },
  {
   "cell_type": "code",
   "execution_count": null,
   "metadata": {
    "colab": {
     "base_uri": "https://localhost:8080/",
     "height": 359
    },
    "id": "YLsNAahiOWF1",
    "outputId": "4fa79acd-ec27-4fe3-d893-b23e5b9b0491"
   },
   "outputs": [],
   "source": []
  },
  {
   "cell_type": "markdown",
   "metadata": {
    "id": "mLivfw_SOWF1"
   },
   "source": [
    "---\n",
    "> P-011: 顧客データフレーム（customer_df）から顧客ID（customer_id）の末尾が1のものだけ全項目抽出し、10件だけ表示せよ。"
   ]
  },
  {
   "cell_type": "code",
   "execution_count": null,
   "metadata": {
    "colab": {
     "base_uri": "https://localhost:8080/",
     "height": 359
    },
    "id": "W8htL-yVOWF1",
    "outputId": "ee767f7e-27e2-4bd8-aa33-ae48c4ea0f82"
   },
   "outputs": [],
   "source": []
  },
  {
   "cell_type": "markdown",
   "metadata": {
    "id": "i7SjGpASOWF1"
   },
   "source": [
    "---\n",
    "> P-012: 店舗データフレーム（store_df）から横浜市の店舗だけ全項目表示せよ。"
   ]
  },
  {
   "cell_type": "code",
   "execution_count": null,
   "metadata": {
    "colab": {
     "base_uri": "https://localhost:8080/",
     "height": 390
    },
    "id": "zWlSMJHOOWF1",
    "outputId": "6312f7aa-1a8d-4ccf-c98d-b4e7915477da"
   },
   "outputs": [],
   "source": []
  },
  {
   "cell_type": "markdown",
   "metadata": {
    "id": "uIqaYXc4OWF2"
   },
   "source": [
    "---\n",
    "> P-013: 顧客データフレーム（customer_df）から、ステータスコード（status_cd）の先頭がアルファベットのA〜Fで始まるデータを全項目抽出し、10件だけ表示せよ。"
   ]
  },
  {
   "cell_type": "code",
   "execution_count": null,
   "metadata": {
    "colab": {
     "base_uri": "https://localhost:8080/",
     "height": 359
    },
    "id": "zTYakRSeOWF2",
    "outputId": "cf9fd6d7-496d-4dad-d6dd-c0f99dc57eff"
   },
   "outputs": [],
   "source": []
  },
  {
   "cell_type": "markdown",
   "metadata": {
    "id": "vWeA-hvfOWF3"
   },
   "source": [
    "---\n",
    "> P-014: 顧客データフレーム（customer_df）から、ステータスコード（status_cd）の末尾が数字の1〜9で終わるデータを全項目抽出し、10件だけ表示せよ。"
   ]
  },
  {
   "cell_type": "code",
   "execution_count": null,
   "metadata": {
    "colab": {
     "base_uri": "https://localhost:8080/",
     "height": 359
    },
    "id": "lQJCYUChOWF3",
    "outputId": "1646b1ec-59de-4a6b-e605-f3a898f8dd3e"
   },
   "outputs": [],
   "source": []
  },
  {
   "cell_type": "markdown",
   "metadata": {
    "id": "KxovkVJAOWF3"
   },
   "source": [
    "---\n",
    "> P-015: 顧客データフレーム（customer_df）から、ステータスコード（status_cd）の先頭がアルファベットのA〜Fで始まり、末尾が数字の1〜9で終わるデータを全項目抽出し、10件だけ表示せよ。"
   ]
  },
  {
   "cell_type": "code",
   "execution_count": null,
   "metadata": {
    "colab": {
     "base_uri": "https://localhost:8080/",
     "height": 359
    },
    "id": "dG8VnD_COWF3",
    "outputId": "a3b7b960-fabe-4ab4-cbf4-6bc68c197580"
   },
   "outputs": [],
   "source": []
  },
  {
   "cell_type": "markdown",
   "metadata": {
    "id": "48UCinEUhhyF"
   },
   "source": [
    "---\n",
    "> P-016: 店舗データフレーム（store_df）から、電話番号（tel_no）が3桁-3桁-4桁のデータを全項目表示せよ。"
   ]
  },
  {
   "cell_type": "code",
   "execution_count": null,
   "metadata": {
    "colab": {
     "base_uri": "https://localhost:8080/",
     "height": 1000
    },
    "id": "SrA3BoD5hhyF",
    "outputId": "a3c3129d-2531-4fed-9896-c54da8fec764"
   },
   "outputs": [],
   "source": []
  },
  {
   "cell_type": "markdown",
   "metadata": {
    "id": "KnSy736bhhyH"
   },
   "source": [
    "---\n",
    "> P-017: 顧客データフレーム（customer_df）を生年月日（birth_day）で高齢順にソートし、先頭10件を全項目表示せよ。"
   ]
  },
  {
   "cell_type": "code",
   "execution_count": null,
   "metadata": {
    "colab": {
     "base_uri": "https://localhost:8080/",
     "height": 359
    },
    "id": "5gjQipFAhhyH",
    "outputId": "a7e2d7cc-d3eb-4a5f-875f-06139b74bd2f"
   },
   "outputs": [],
   "source": []
  },
  {
   "cell_type": "markdown",
   "metadata": {
    "id": "BDUAeRqshhyI"
   },
   "source": [
    "---\n",
    "> P-018: 顧客データフレーム（customer_df）を生年月日（birth_day）で若い順にソートし、先頭10件を全項目表示せよ。"
   ]
  },
  {
   "cell_type": "code",
   "execution_count": null,
   "metadata": {
    "colab": {
     "base_uri": "https://localhost:8080/",
     "height": 359
    },
    "id": "AkM5jZ2xhhyJ",
    "outputId": "433bc91c-6318-4207-d72d-7d50c9b299d9"
   },
   "outputs": [],
   "source": []
  },
  {
   "cell_type": "markdown",
   "metadata": {
    "id": "jIbxf5DwhhyK"
   },
   "source": [
    "## 第二回\n",
    "---\n",
    "> P-019: レシート明細データフレーム（receipt_df）に対し、1件あたりの売上金額（amount）が高い順にランクを付与し、先頭10件を抽出せよ。項目は顧客ID（customer_id）、売上金額（amount）、付与したランクを表示させること。  \n",
    "なお、売上金額（amount）が等しい場合は同一順位を付与するものとし、その場合の順位抜けはなしとする。"
   ]
  },
  {
   "cell_type": "code",
   "execution_count": null,
   "metadata": {
    "colab": {
     "base_uri": "https://localhost:8080/",
     "height": 359
    },
    "id": "erXRPeQXhhyL",
    "outputId": "68e925e2-9780-4ec4-cf09-6a012245ae6a"
   },
   "outputs": [],
   "source": []
  },
  {
   "cell_type": "markdown",
   "metadata": {
    "id": "mhp33yibhhyM"
   },
   "source": [
    "---\n",
    "> P-020: レシート明細データフレーム（receipt_df）に対し、1件あたりの売上金額（amount）が高い順にランクを付与し、先頭10件を抽出せよ。項目は顧客ID（customer_id）、売上金額（amount）、付与したランクを表示させること。  \n",
    "なお、売上金額（amount）が等しい場合でも別順位を付与すること。その場合には、データの先頭に近い方に高いランクを付与すること。"
   ]
  },
  {
   "cell_type": "code",
   "execution_count": null,
   "metadata": {
    "colab": {
     "base_uri": "https://localhost:8080/",
     "height": 359
    },
    "id": "Ks8wJ4dghhyM",
    "outputId": "e49f6aa4-91cb-4d68-f4a2-b8451b75134c"
   },
   "outputs": [],
   "source": []
  },
  {
   "cell_type": "markdown",
   "metadata": {
    "id": "1lRGtDSphhyQ"
   },
   "source": [
    "---\n",
    "> P-021: レシート明細データフレーム（receipt_df）に対し、件数をカウントせよ。"
   ]
  },
  {
   "cell_type": "code",
   "execution_count": null,
   "metadata": {
    "colab": {
     "base_uri": "https://localhost:8080/"
    },
    "id": "IQa6SAcrSZTj",
    "outputId": "c343014d-5d67-4921-dc4e-28b189ddf75e"
   },
   "outputs": [],
   "source": []
  },
  {
   "cell_type": "markdown",
   "metadata": {
    "id": "MkjDW-oyhhyS"
   },
   "source": [
    "---\n",
    "> P-022: レシート明細データフレーム（receipt_df）の顧客ID（customer_id）に対し、ユニーク件数をカウントせよ。"
   ]
  },
  {
   "cell_type": "code",
   "execution_count": null,
   "metadata": {
    "colab": {
     "base_uri": "https://localhost:8080/"
    },
    "id": "0xSI9r8UhhyS",
    "outputId": "3649f84c-1788-4acd-daef-00ebbec796fe"
   },
   "outputs": [],
   "source": []
  },
  {
   "cell_type": "markdown",
   "metadata": {
    "id": "nhAK-Wf5hhyT"
   },
   "source": [
    "---\n",
    "> P-023: レシート明細データフレーム（receipt_df）に対し、店舗コード（store_cd）ごとに売上金額（amount）と売上数量（quantity）を合計せよ。"
   ]
  },
  {
   "cell_type": "code",
   "execution_count": null,
   "metadata": {
    "colab": {
     "base_uri": "https://localhost:8080/",
     "height": 1000
    },
    "id": "ZAkUf4-5hhyU",
    "outputId": "c34a5cbb-5335-4d66-e6df-e09500242960"
   },
   "outputs": [],
   "source": []
  },
  {
   "cell_type": "markdown",
   "metadata": {
    "id": "F4RjuZr_hhyV"
   },
   "source": [
    "---\n",
    "> P-024: レシート明細データフレーム（receipt_df）に対し、顧客ID（customer_id）ごとに最も新しい売上日（sales_ymd）を求め、10件表示せよ。"
   ]
  },
  {
   "cell_type": "code",
   "execution_count": null,
   "metadata": {
    "colab": {
     "base_uri": "https://localhost:8080/",
     "height": 450
    },
    "id": "ir6Oke73hhyV",
    "outputId": "fa74062b-20d7-4305-b919-8a7bdaea7107"
   },
   "outputs": [],
   "source": []
  },
  {
   "cell_type": "markdown",
   "metadata": {
    "id": "QZlvMM7AhhyX"
   },
   "source": [
    "---\n",
    "> P-025: レシート明細データフレーム（receipt_df）に対し、顧客ID（customer_id）ごとに最も古い売上日（sales_ymd）を求め、10件表示せよ。"
   ]
  },
  {
   "cell_type": "code",
   "execution_count": null,
   "metadata": {
    "colab": {
     "base_uri": "https://localhost:8080/",
     "height": 450
    },
    "id": "MFnLotE_hhyX",
    "outputId": "b6ec59ce-e0c6-4355-f1ee-e8387290fde3"
   },
   "outputs": [],
   "source": []
  },
  {
   "cell_type": "markdown",
   "metadata": {
    "id": "QLeGVwYWhhyZ"
   },
   "source": [
    "---\n",
    "> P-026: レシート明細データフレーム（receipt_df）に対し、顧客ID（customer_id）ごとに最も新しい売上日（sales_ymd）と古い売上日を求め、両者が異なるデータを10件表示せよ。"
   ]
  },
  {
   "cell_type": "code",
   "execution_count": null,
   "metadata": {
    "colab": {
     "base_uri": "https://localhost:8080/",
     "height": 390
    },
    "id": "q68lbEewhhyZ",
    "outputId": "677d2501-b7de-40fb-8c85-c1059b35a648"
   },
   "outputs": [],
   "source": []
  },
  {
   "cell_type": "markdown",
   "metadata": {
    "id": "259M7d7Ohhyb"
   },
   "source": [
    "---\n",
    "> P-027: レシート明細データフレーム（receipt_df）に対し、店舗コード（store_cd）ごとに売上金額（amount）の平均を計算し、降順でTOP5を表示せよ。"
   ]
  },
  {
   "cell_type": "code",
   "execution_count": null,
   "metadata": {
    "colab": {
     "base_uri": "https://localhost:8080/",
     "height": 235
    },
    "id": "i5ehOOaBhhyb",
    "outputId": "ca8a59cd-3457-4358-e1e5-eb0773edc750"
   },
   "outputs": [],
   "source": []
  },
  {
   "cell_type": "markdown",
   "metadata": {
    "id": "5oUtacPihhyc"
   },
   "source": [
    "---\n",
    "> P-028: レシート明細データフレーム（receipt_df）に対し、店舗コード（store_cd）ごとに売上金額（amount）の中央値を計算し、降順でTOP5を表示せよ。"
   ]
  },
  {
   "cell_type": "code",
   "execution_count": null,
   "metadata": {
    "colab": {
     "base_uri": "https://localhost:8080/",
     "height": 235
    },
    "id": "-s9SplCEhhyd",
    "outputId": "fca41b88-3bf0-422a-9a36-05242b13707e"
   },
   "outputs": [],
   "source": []
  },
  {
   "cell_type": "markdown",
   "metadata": {
    "id": "4i4pM4Cmhhye"
   },
   "source": [
    "---\n",
    "> P-029: レシート明細データフレーム（receipt_df）に対し、店舗コード（store_cd）ごとに商品コード（product_cd）の最頻値を求めよ。  \n",
    "但し、最頻値が複数ある場合には全て表示させること。"
   ]
  },
  {
   "cell_type": "code",
   "execution_count": null,
   "metadata": {
    "colab": {
     "base_uri": "https://localhost:8080/",
     "height": 1000
    },
    "id": "DsX1TXZIhhye",
    "outputId": "8c536b3f-03b5-4894-dc9b-b1f39618d9be"
   },
   "outputs": [],
   "source": []
  },
  {
   "cell_type": "markdown",
   "metadata": {
    "id": "DKpNVF4Ahhyg"
   },
   "source": [
    "---\n",
    "> P-030: レシート明細データフレーム（receipt_df）に対し、店舗コード（store_cd）ごとに売上金額（amount）の標本分散を計算し、降順でTOP5を表示せよ。"
   ]
  },
  {
   "cell_type": "code",
   "execution_count": null,
   "metadata": {
    "colab": {
     "base_uri": "https://localhost:8080/",
     "height": 235
    },
    "id": "YO_oM4BRhhyg",
    "outputId": "45cdd274-c552-4daf-c31d-0189290cb7a7"
   },
   "outputs": [],
   "source": []
  },
  {
   "cell_type": "markdown",
   "metadata": {
    "id": "KQUwt_Zghhyi"
   },
   "source": [
    "---\n",
    "> P-031: レシート明細データフレーム（receipt_df）に対し、店舗コード（store_cd）ごとに売上金額（amount）の標本標準偏差を計算し、降順でTOP5を表示せよ。"
   ]
  },
  {
   "cell_type": "code",
   "execution_count": null,
   "metadata": {
    "colab": {
     "base_uri": "https://localhost:8080/",
     "height": 235
    },
    "id": "7UwDIKcZhhyi",
    "outputId": "e856b0d5-325c-4031-e64d-7be1b37c44ae"
   },
   "outputs": [],
   "source": []
  },
  {
   "cell_type": "markdown",
   "metadata": {
    "id": "DpGB1z1Ehhyj"
   },
   "source": [
    "---\n",
    "> P-032: レシート明細データフレーム（receipt_df）の売上金額（amount）について、25％刻みでパーセンタイル値を求めよ。"
   ]
  },
  {
   "cell_type": "code",
   "execution_count": null,
   "metadata": {
    "colab": {
     "base_uri": "https://localhost:8080/",
     "height": 204
    },
    "id": "JBG97d1yhhyk",
    "outputId": "551994bb-dc75-4e19-8c4f-80ccc5ad4b74"
   },
   "outputs": [],
   "source": []
  },
  {
   "cell_type": "markdown",
   "metadata": {
    "id": "mYPLc_n4hhyl"
   },
   "source": [
    "---\n",
    "> P-033: レシート明細データフレーム（receipt_df）に対し、店舗コード（store_cd）ごとに売上金額（amount）の平均を計算し、330以上のものを抽出せよ。"
   ]
  },
  {
   "cell_type": "code",
   "execution_count": null,
   "metadata": {
    "colab": {
     "base_uri": "https://localhost:8080/",
     "height": 483
    },
    "id": "mJsrgWhNhhym",
    "outputId": "4e78132c-7124-42cb-c93d-e761dae12da1"
   },
   "outputs": [],
   "source": []
  },
  {
   "cell_type": "markdown",
   "metadata": {
    "id": "Wraz5peFhhyo"
   },
   "source": [
    "## 第三回\n",
    "---\n",
    "> P-034: レシート明細データフレーム（receipt_df）に対し、顧客ID（customer_id）ごとに売上金額（amount）を合計して全顧客の平均を求めよ。ただし、顧客IDが\"Z\"から始まるのものは非会員を表すため、除外して計算すること。\n"
   ]
  },
  {
   "cell_type": "code",
   "execution_count": null,
   "metadata": {
    "colab": {
     "base_uri": "https://localhost:8080/"
    },
    "id": "hYgDnVGjhhyo",
    "outputId": "10388505-cae2-4882-e1bc-aab53e787280"
   },
   "outputs": [],
   "source": []
  },
  {
   "cell_type": "markdown",
   "metadata": {
    "id": "h9E9b_yUhhyq"
   },
   "source": [
    "---\n",
    "> P-035: レシート明細データフレーム（receipt_df）に対し、顧客ID（customer_id）ごとに売上金額（amount）を合計して全顧客の平均を求め、平均以上に買い物をしている顧客を抽出せよ。  \n",
    "ただし、顧客IDが\"Z\"から始まるのものは非会員を表すため、除外して計算すること。なお、データは10件だけ表示させれば良い。"
   ]
  },
  {
   "cell_type": "code",
   "execution_count": null,
   "metadata": {
    "colab": {
     "base_uri": "https://localhost:8080/",
     "height": 390
    },
    "id": "7lYKkmsohhyq",
    "outputId": "1eb7a7ee-32d9-4b86-81e3-47d6e3f2de25"
   },
   "outputs": [],
   "source": []
  },
  {
   "cell_type": "markdown",
   "metadata": {
    "id": "e4wFXsuLhhys"
   },
   "source": [
    "---\n",
    "> P-036: レシート明細データフレーム（receipt_df）と店舗データフレーム（store_df）を内部結合し、レシート明細データフレームの全項目と店舗データフレームの店舗名（store_name）を10件表示させよ。"
   ]
  },
  {
   "cell_type": "code",
   "execution_count": null,
   "metadata": {
    "colab": {
     "base_uri": "https://localhost:8080/",
     "height": 359
    },
    "id": "n7p7o5sDhhys",
    "outputId": "3d2d5a2a-0bd5-4a9d-8963-75e133d4e430"
   },
   "outputs": [],
   "source": []
  },
  {
   "cell_type": "markdown",
   "metadata": {
    "id": "8TdeNEn_hhyu"
   },
   "source": [
    "---\n",
    "> P-037: 商品データフレーム（product_df）とカテゴリデータフレーム（category_df）を内部結合し、商品データフレームの全項目とカテゴリデータフレームの小区分名（category_small_name）を10件表示させよ。"
   ]
  },
  {
   "cell_type": "code",
   "execution_count": null,
   "metadata": {
    "colab": {
     "base_uri": "https://localhost:8080/",
     "height": 359
    },
    "id": "J20VBcmxhhyu",
    "outputId": "daaf58cd-9b89-42d6-b552-0f6acf6c41a9"
   },
   "outputs": [],
   "source": []
  },
  {
   "cell_type": "markdown",
   "metadata": {
    "id": "iNO7ESvWhhyw"
   },
   "source": [
    "---\n",
    "> P-038: 顧客データフレーム（customer_df）とレシート明細データフレーム（receipt_df）から、各顧客ごとの売上金額合計を求めよ。ただし、買い物の実績がない顧客については売上金額を0として表示させること。  \n",
    "また、顧客は性別コード（gender_cd）が女性（1）であるものを対象とし、非会員（顧客IDが'Z'から始まるもの）は除外すること。なお、結果は10件だけ表示させれば良い。"
   ]
  },
  {
   "cell_type": "code",
   "execution_count": null,
   "metadata": {
    "colab": {
     "base_uri": "https://localhost:8080/",
     "height": 359
    },
    "id": "hmc6LUaEhhyw",
    "outputId": "4913aba4-0b49-4f9d-8882-93673cc2f833"
   },
   "outputs": [],
   "source": []
  },
  {
   "cell_type": "markdown",
   "metadata": {
    "id": "O8FU3doGhhyy"
   },
   "source": [
    "---\n",
    "> P-039: レシート明細データフレーム（receipt_df）から売上日数の多い顧客の上位20件と、売上金額合計の多い顧客の上位20件を抽出し、完全外部結合せよ。  \n",
    "ただし、非会員（顧客IDが'Z'から始まるもの）は除外すること。"
   ]
  },
  {
   "cell_type": "code",
   "execution_count": null,
   "metadata": {
    "colab": {
     "base_uri": "https://localhost:8080/",
     "height": 1000
    },
    "id": "Av7SadgPhhyy",
    "outputId": "4c3d54dd-e18c-4a0a-94c0-e41a41b48d14"
   },
   "outputs": [],
   "source": []
  },
  {
   "cell_type": "markdown",
   "metadata": {
    "id": "pcu3GCH9hhyz"
   },
   "source": [
    "---\n",
    "> P-040: 全ての店舗と全ての商品を組み合わせると何件のデータとなるか調査したい。店舗（store_df）と商品（product_df）を直積した件数を計算せよ。"
   ]
  },
  {
   "cell_type": "code",
   "execution_count": null,
   "metadata": {
    "colab": {
     "base_uri": "https://localhost:8080/"
    },
    "id": "d_jUSaS3hhyz",
    "outputId": "108f2434-2cce-46d8-e430-70259670c1a2"
   },
   "outputs": [],
   "source": []
  },
  {
   "cell_type": "markdown",
   "metadata": {
    "id": "qbPipL0Hhhy1"
   },
   "source": [
    "---\n",
    "> P-041: レシート明細データフレーム（receipt_df）の売上金額（amount）を日付（sales_ymd）ごとに集計し、前日からの売上金額増減を計算せよ。なお、計算結果は10件表示すればよい。"
   ]
  },
  {
   "cell_type": "code",
   "execution_count": null,
   "metadata": {
    "colab": {
     "base_uri": "https://localhost:8080/",
     "height": 390
    },
    "id": "SvVN53Kehhy2",
    "outputId": "3788e758-a22a-4baf-8015-a5c426e8c696"
   },
   "outputs": [],
   "source": []
  },
  {
   "cell_type": "markdown",
   "metadata": {
    "id": "PNUVk5Dmhhy3"
   },
   "source": [
    "---\n",
    "> P-042: レシート明細データフレーム（receipt_df）の売上金額（amount）を日付（sales_ymd）ごとに集計し、各日付のデータに対し、1日前、2日前、3日前のデータを結合せよ。結果は10件表示すればよい。  "
   ]
  },
  {
   "cell_type": "code",
   "execution_count": null,
   "metadata": {
    "colab": {
     "base_uri": "https://localhost:8080/",
     "height": 390
    },
    "id": "LE_foOoUhhy4",
    "outputId": "1a64e385-e9ad-48d5-e02a-b529f4ae8451"
   },
   "outputs": [],
   "source": []
  },
  {
   "cell_type": "markdown",
   "metadata": {
    "id": "uEnwKvWbhhy5"
   },
   "source": [
    "---\n",
    "> P-043： レシート明細データフレーム（receipt_df）と顧客データフレーム（customer_df）を結合し、性別（gender）と年代（ageから計算）ごとに売上金額（amount）を合計した売上サマリデータフレーム（df_sales_summary）を作成せよ。  \n",
    "性別は0が男性、1が女性、9が不明を表すものとする。\n",
    ">\n",
    "> ただし、項目構成は年代、女性の売上金額、男性の売上金額、性別不明の売上金額の4項目とすること（縦に年代、横に性別のクロス集計）。また、年代は10歳ごとの階級とすること。"
   ]
  },
  {
   "cell_type": "code",
   "execution_count": null,
   "metadata": {
    "colab": {
     "base_uri": "https://localhost:8080/",
     "height": 359
    },
    "id": "a2wSKTmIhhy6",
    "outputId": "a6283fd9-0189-42ae-95f9-cae53a3a2c78"
   },
   "outputs": [],
   "source": []
  },
  {
   "cell_type": "markdown",
   "metadata": {
    "id": "PIC95tKMhhy8"
   },
   "source": [
    "---\n",
    "> P-044： 前設問で作成した売上サマリデータフレーム（df_sales_summary）は性別の売上を横持ちさせたものであった。このデータフレームから性別を縦持ちさせ、年代、性別コード、売上金額の3項目に変換せよ。ただし、性別コードは男性を'00'、女性を'01'、不明を'99'とする。"
   ]
  },
  {
   "cell_type": "code",
   "execution_count": null,
   "metadata": {
    "colab": {
     "base_uri": "https://localhost:8080/",
     "height": 917
    },
    "id": "TMKQe8F5hhy8",
    "outputId": "c6333bca-7497-46d8-b8ff-57c655f122ed"
   },
   "outputs": [],
   "source": []
  },
  {
   "cell_type": "markdown",
   "metadata": {
    "id": "L29i1r0Nhhy9"
   },
   "source": [
    "## 第四回\n",
    "---\n",
    "> P-045: 顧客データフレーム（customer_df）の生年月日（birth_day）は文字列型でデータを保有している。これをYYYYMMDD形式の文字列に変換し、顧客ID（customer_id）とともに抽出せよ。データは10件を抽出すれば良い。"
   ]
  },
  {
   "cell_type": "code",
   "execution_count": null,
   "metadata": {
    "colab": {
     "base_uri": "https://localhost:8080/",
     "height": 359
    },
    "id": "t2t7rJCWhhy9",
    "outputId": "e25c67dd-1aee-4ade-ab46-ecd577f24d44"
   },
   "outputs": [],
   "source": []
  },
  {
   "cell_type": "markdown",
   "metadata": {
    "id": "umDmd8kohhzA"
   },
   "source": [
    "---\n",
    "> P-046: 顧客データフレーム（customer_df）の申し込み日（application_date）はYYYYMMD形式の文字列型でデータを保有している。これを日付型（dateやdatetime）に変換し、顧客ID（customer_id）とともに抽出せよ。データは10件を抽出すれば良い。"
   ]
  },
  {
   "cell_type": "code",
   "execution_count": null,
   "metadata": {
    "colab": {
     "base_uri": "https://localhost:8080/",
     "height": 359
    },
    "id": "pVAxV-TWhhzA",
    "outputId": "6709c757-8a54-46d6-d5d9-b915c2dcf2f5"
   },
   "outputs": [],
   "source": []
  },
  {
   "cell_type": "markdown",
   "metadata": {
    "id": "lbc058iGhhzC"
   },
   "source": [
    "---\n",
    "> P-047: レシート明細データフレーム（receipt_df）の売上日（sales_ymd）はYYYYMMDD形式の数値型でデータを保有している。これを日付型（dateやdatetime）に変換し、レシート番号(receipt_no)、レシートサブ番号（receipt_sub_no）とともに抽出せよ。  \n",
    "データは10件を抽出すれば良い。"
   ]
  },
  {
   "cell_type": "code",
   "execution_count": null,
   "metadata": {
    "colab": {
     "base_uri": "https://localhost:8080/",
     "height": 359
    },
    "id": "-StgxCNyhhzC",
    "outputId": "1206012a-cb00-48b5-f876-86ebc7a1412b"
   },
   "outputs": [],
   "source": []
  },
  {
   "cell_type": "markdown",
   "metadata": {
    "id": "ohZn7QSihhzD"
   },
   "source": [
    "---\n",
    "> P-048: レシート明細データフレーム（receipt_df）の売上エポック秒（sales_epoch）は数値型のUNIX秒でデータを保有している。これを日付型（dateやdatetime）に変換し、レシート番号(receipt_no)、レシートサブ番号（receipt_sub_no）とともに抽出せよ。  \n",
    "データは10件を抽出すれば良い。"
   ]
  },
  {
   "cell_type": "code",
   "execution_count": null,
   "metadata": {
    "colab": {
     "base_uri": "https://localhost:8080/",
     "height": 359
    },
    "id": "Y-aq0twKhhzD",
    "outputId": "c9ac8f62-6ec4-45ae-b00f-8bd12eeea5c4"
   },
   "outputs": [],
   "source": []
  },
  {
   "cell_type": "markdown",
   "metadata": {
    "id": "GfUYeJaFhhzE"
   },
   "source": [
    "---\n",
    "> P-049: レシート明細データフレーム（receipt_df）の売上エポック秒（sales_epoch）を日付型（timestamp型）に変換し、\"年\"だけ取り出してレシート番号(receipt_no)、レシートサブ番号（receipt_sub_no）とともに抽出せよ。  \n",
    "データは10件を抽出すれば良い。"
   ]
  },
  {
   "cell_type": "code",
   "execution_count": null,
   "metadata": {
    "colab": {
     "base_uri": "https://localhost:8080/",
     "height": 359
    },
    "id": "C72RHYAThhzE",
    "outputId": "c2effcd7-8ae2-4604-e7fa-a6cd09749bd7"
   },
   "outputs": [],
   "source": []
  },
  {
   "cell_type": "markdown",
   "metadata": {
    "id": "wiogoJ-8hhzF"
   },
   "source": [
    "---\n",
    "> P-050: レシート明細データフレーム（receipt_df）の売上エポック秒（sales_epoch）を日付型（timestamp型）に変換し、\"月\"だけ取り出してレシート番号(receipt_no)、レシートサブ番号（receipt_sub_no）とともに抽出せよ。  \n",
    "なお、\"月\"は0埋め2桁で取り出すこと。データは10件を抽出すれば良い。"
   ]
  },
  {
   "cell_type": "code",
   "execution_count": null,
   "metadata": {
    "colab": {
     "base_uri": "https://localhost:8080/",
     "height": 359
    },
    "id": "Dx9OH1LNhhzG",
    "outputId": "9c825123-09c6-46f6-e95c-a426ab7f1ee1"
   },
   "outputs": [],
   "source": []
  },
  {
   "cell_type": "markdown",
   "metadata": {
    "id": "8JT6_Cu-hhzH"
   },
   "source": [
    "---\n",
    "> P-051: レシート明細データフレーム（receipt_df）の売上エポック秒（sales_epoch）を日付型（timestamp型）に変換し、\"日\"だけ取り出してレシート番号(receipt_no)、レシートサブ番号（receipt_sub_no）とともに抽出せよ。  \n",
    "なお、\"日\"は0埋め2桁で取り出すこと。データは10件を抽出すれば良い。"
   ]
  },
  {
   "cell_type": "code",
   "execution_count": null,
   "metadata": {
    "colab": {
     "base_uri": "https://localhost:8080/",
     "height": 359
    },
    "id": "6A7WIWLhhhzH",
    "outputId": "51ad2ebd-594f-400b-bd55-36712be57034"
   },
   "outputs": [],
   "source": []
  },
  {
   "cell_type": "markdown",
   "metadata": {
    "id": "OGXY-uRrhhzI"
   },
   "source": [
    "---\n",
    "> P-052: レシート明細データフレーム（receipt_df）の売上金額（amount）を顧客ID（customer_id）ごとに合計の上、売上金額合計に対して2000円以下を0、2000円超を1に2値化し、顧客ID、売上金額合計とともに10件表示せよ。  \n",
    "ただし、顧客IDが\"Z\"から始まるのものは非会員を表すため、除外して計算すること。"
   ]
  },
  {
   "cell_type": "code",
   "execution_count": null,
   "metadata": {
    "colab": {
     "base_uri": "https://localhost:8080/",
     "height": 390
    },
    "id": "rQvmUUolhhzJ",
    "outputId": "ff931c90-c909-4ccb-a2e0-c3c0cec3a0e3"
   },
   "outputs": [],
   "source": []
  },
  {
   "cell_type": "markdown",
   "metadata": {
    "id": "ZtGCQePGhhzK"
   },
   "source": [
    "---\n",
    "> P-053: 顧客データフレーム（customer_df）の郵便番号（postal_cd）に対し、東京（先頭3桁が100〜209のもの）を1、それ以外のものを0に２値化せよ。  \n",
    "さらにレシート明細データフレーム（receipt_df）と結合し、全期間において買い物実績のある顧客数を、作成した2値ごとにカウントせよ。"
   ]
  },
  {
   "cell_type": "code",
   "execution_count": null,
   "metadata": {
    "colab": {
     "base_uri": "https://localhost:8080/",
     "height": 173
    },
    "id": "8NZw1hv2hhzK",
    "outputId": "b94de3ce-0402-4bfc-b46c-bcae16dc5330"
   },
   "outputs": [],
   "source": []
  },
  {
   "cell_type": "markdown",
   "metadata": {
    "id": "HHPGETlfhhzL"
   },
   "source": [
    "---\n",
    "> P-054: 顧客データデータフレーム（customer_df）の住所（address）は、埼玉県、千葉県、東京都、神奈川県のいずれかとなっている。都道府県毎にコード値を作成し、顧客ID、住所とともに抽出せよ。  \n",
    "値は埼玉県を11、千葉県を12、東京都を13、神奈川県を14とすること。結果は10件表示させれば良い。"
   ]
  },
  {
   "cell_type": "code",
   "execution_count": null,
   "metadata": {
    "colab": {
     "base_uri": "https://localhost:8080/",
     "height": 359
    },
    "id": "r4hjSRMohhzL",
    "outputId": "aff91ded-7e72-4422-97d7-ac51a879d734"
   },
   "outputs": [],
   "source": []
  },
  {
   "cell_type": "markdown",
   "metadata": {
    "id": "0Gr2RKrrhhzM"
   },
   "source": [
    "---\n",
    "> P-055: レシート明細データフレーム（receipt_df）の売上金額（amount）を顧客ID（customer_id）ごとに合計し、その合計金額の四分位点を求めよ。  \n",
    "その上で、顧客ごとの売上金額合計に対して以下の基準でカテゴリ値を作成し、顧客ID、売上金額と合計ともに表示せよ。  \n",
    "カテゴリ値は上から順に1〜4とする。結果は10件表示させれば良い。\n",
    ">\n",
    "> - 一四分位以下\n",
    "> - 第一四分位超第二四分位以下\n",
    "> - 第二四分位超第三四分位以下\n",
    "> - 第三四分位超"
   ]
  },
  {
   "cell_type": "code",
   "execution_count": null,
   "metadata": {
    "colab": {
     "base_uri": "https://localhost:8080/",
     "height": 390
    },
    "id": "uB9foiPYX3uS",
    "outputId": "dd672ec4-a26f-4b47-e600-4e9723a440e2"
   },
   "outputs": [],
   "source": []
  },
  {
   "cell_type": "markdown",
   "metadata": {
    "id": "X3_-P1ahhhzN"
   },
   "source": [
    "---\n",
    "> P-056: 顧客データフレーム（customer_df）の年齢（age）をもとに10歳刻みで年代を算出し、顧客ID（customer_id）、生年月日（birth_day）とともに抽出せよ。ただし、60歳以上は全て60歳代とすること。年代を表すカテゴリ名は任意とする。先頭10件を表示させればよい。"
   ]
  },
  {
   "cell_type": "code",
   "execution_count": null,
   "metadata": {
    "colab": {
     "base_uri": "https://localhost:8080/",
     "height": 359
    },
    "id": "p4xXkwzhhhzN",
    "outputId": "cf49f9fe-4829-41a1-adf6-72d6bbe5e745"
   },
   "outputs": [],
   "source": []
  },
  {
   "cell_type": "markdown",
   "metadata": {
    "id": "b_I_dEsdhhzP"
   },
   "source": [
    "---\n",
    "> P-057: 前問題の抽出結果と性別（gender）を組み合わせ、新たに性別×年代の組み合わせを表すカテゴリデータを作成せよ。組み合わせを表すカテゴリの値は任意とする。先頭10件を表示させればよい。"
   ]
  },
  {
   "cell_type": "code",
   "execution_count": null,
   "metadata": {
    "colab": {
     "base_uri": "https://localhost:8080/",
     "height": 359
    },
    "id": "zz-TCEbChhzP",
    "outputId": "8070ed35-3471-432d-aec9-040603ade19f"
   },
   "outputs": [],
   "source": []
  },
  {
   "cell_type": "markdown",
   "metadata": {
    "id": "oJZe2WQ3hhzQ"
   },
   "source": [
    "## 第五回\n",
    "---\n",
    "> P-058: 顧客データフレーム（customer_df）の性別コード（gender_cd）をダミー変数化し、顧客ID（customer_id）とともに抽出せよ。結果は10件表示させれば良い。"
   ]
  },
  {
   "cell_type": "code",
   "execution_count": null,
   "metadata": {
    "colab": {
     "base_uri": "https://localhost:8080/",
     "height": 359
    },
    "id": "pm-akNNrhhzQ",
    "outputId": "39c8556a-f0cc-4eff-f6df-2bed28e0d50f"
   },
   "outputs": [],
   "source": []
  },
  {
   "cell_type": "markdown",
   "metadata": {
    "id": "_rIF1D4RhhzR"
   },
   "source": [
    "---\n",
    "> P-059: レシート明細データフレーム（receipt_df）の売上金額（amount）を顧客ID（customer_id）ごとに合計し、合計した売上金額を平均0、標準偏差1に標準化して顧客ID、売上金額合計とともに表示せよ。  \n",
    "標準化に使用する標準偏差は、不偏標準偏差と標本標準偏差のどちらでも良いものとする。ただし、顧客IDが\"Z\"から始まるのものは非会員を表すため、除外して計算すること。結果は10件表示させれば良い。"
   ]
  },
  {
   "cell_type": "code",
   "execution_count": null,
   "metadata": {
    "colab": {
     "base_uri": "https://localhost:8080/",
     "height": 390
    },
    "id": "hgU77tJWhhzR",
    "outputId": "42287da0-1384-4f8e-8856-d84142fd279c"
   },
   "outputs": [],
   "source": []
  },
  {
   "cell_type": "markdown",
   "metadata": {
    "id": "--LbbUHGhhzT"
   },
   "source": [
    "---\n",
    "> P-060: レシート明細データフレーム（receipt_df）の売上金額（amount）を顧客ID（customer_id）ごとに合計し、合計した売上金額を最小値0、最大値1に正規化して顧客ID、売上金額合計とともに表示せよ。  \n",
    "ただし、顧客IDが\"Z\"から始まるのものは非会員を表すため、除外して計算すること。結果は10件表示させれば良い。"
   ]
  },
  {
   "cell_type": "code",
   "execution_count": null,
   "metadata": {
    "colab": {
     "base_uri": "https://localhost:8080/",
     "height": 390
    },
    "id": "RIfNz58jhhzT",
    "outputId": "7b3e9d86-0f2e-4c91-eda7-fba685fdd1db"
   },
   "outputs": [],
   "source": []
  },
  {
   "cell_type": "markdown",
   "metadata": {
    "id": "9v_q6BLjhhzU"
   },
   "source": [
    "---\n",
    "> P-061: レシート明細データフレーム（receipt_df）の売上金額（amount）を顧客ID（customer_id）ごとに合計し、合計した売上金額を常用対数化（底=10）して顧客ID、売上金額合計とともに表示せよ。  \n",
    "ただし、顧客IDが\"Z\"から始まるのものは非会員を表すため、除外して計算すること。結果は10件表示させれば良い。"
   ]
  },
  {
   "cell_type": "code",
   "execution_count": null,
   "metadata": {
    "colab": {
     "base_uri": "https://localhost:8080/",
     "height": 390
    },
    "id": "d5_2HQ-2hhzU",
    "outputId": "a1856410-b22c-494c-c06e-95d3deea2bc1"
   },
   "outputs": [],
   "source": []
  },
  {
   "cell_type": "markdown",
   "metadata": {
    "id": "uYepDUW5hhzV"
   },
   "source": [
    "---\n",
    "> P-062: レシート明細データフレーム（receipt_df）の売上金額（amount）を顧客ID（customer_id）ごとに合計し、合計した売上金額を自然対数化(底=e）して顧客ID、売上金額合計とともに表示せよ。  \n",
    "ただし、顧客IDが\"Z\"から始まるのものは非会員を表すため、除外して計算すること。結果は10件表示させれば良い。"
   ]
  },
  {
   "cell_type": "code",
   "execution_count": null,
   "metadata": {
    "colab": {
     "base_uri": "https://localhost:8080/",
     "height": 390
    },
    "id": "aqDDlXmEhhzV",
    "outputId": "60e3fe7a-7cba-4fa0-9e50-a0407a2644ec"
   },
   "outputs": [],
   "source": []
  },
  {
   "cell_type": "markdown",
   "metadata": {
    "id": "JrQz7vUxhhzW"
   },
   "source": [
    "---\n",
    "> P-063: 商品データフレーム（product_df）の単価（unit_price）と原価（unit_cost）から、各商品の利益額を算出せよ。結果は10件表示させれば良い。"
   ]
  },
  {
   "cell_type": "code",
   "execution_count": null,
   "metadata": {
    "colab": {
     "base_uri": "https://localhost:8080/",
     "height": 359
    },
    "id": "AEzRXedrhhzX",
    "outputId": "8ba4270d-bdd0-4a7f-efd6-162570853dc3"
   },
   "outputs": [],
   "source": []
  },
  {
   "cell_type": "markdown",
   "metadata": {
    "id": "dA3_mEIghhzY"
   },
   "source": [
    "---\n",
    "> P-064: 商品データフレーム（product_df）の単価（unit_price）と原価（unit_cost）から、各商品の利益率の全体平均を算出せよ。  \n",
    "ただし、単価と原価にはNULLが存在することに注意せよ。"
   ]
  },
  {
   "cell_type": "code",
   "execution_count": null,
   "metadata": {
    "colab": {
     "base_uri": "https://localhost:8080/"
    },
    "id": "tVmogEBBhhzY",
    "outputId": "093b1c84-1c7c-4e75-d8e4-e721d84f021b"
   },
   "outputs": [],
   "source": []
  },
  {
   "cell_type": "markdown",
   "metadata": {
    "id": "jQowqYLWhhzZ"
   },
   "source": [
    "---\n",
    "> P-065: 商品データフレーム（product_df）の各商品について、利益率が30%となる新たな単価を求めよ。  \n",
    "ただし、1円未満は切り捨てること。そして結果を10件表示させ、利益率がおよそ30％付近であることを確認せよ。  \n",
    "ただし、単価（unit_price）と原価（unit_cost）にはNULLが存在することに注意せよ。"
   ]
  },
  {
   "cell_type": "code",
   "execution_count": null,
   "metadata": {
    "colab": {
     "base_uri": "https://localhost:8080/",
     "height": 359
    },
    "id": "fSPVlHxthhzZ",
    "outputId": "67a4a91e-6c5e-4e86-b843-e19f473d8e9a"
   },
   "outputs": [],
   "source": []
  },
  {
   "cell_type": "markdown",
   "metadata": {
    "id": "Tj7mplJihhza"
   },
   "source": [
    "---\n",
    "> P-066: 商品データフレーム（product_df）の各商品について、利益率が30%となる新たな単価を求めよ。  \n",
    "今回は、1円未満を四捨五入すること（0.5については偶数方向の丸めで良い）。そして結果を10件表示させ、利益率がおよそ30％付近であることを確認せよ。  \n",
    "ただし、単価（unit_price）と原価（unit_cost）にはNULLが存在することに注意せよ。"
   ]
  },
  {
   "cell_type": "code",
   "execution_count": null,
   "metadata": {
    "colab": {
     "base_uri": "https://localhost:8080/",
     "height": 359
    },
    "id": "gC81Fp6ehhza",
    "outputId": "3aa144a8-78f2-427e-9785-567db5e455cd"
   },
   "outputs": [],
   "source": []
  },
  {
   "cell_type": "markdown",
   "metadata": {
    "id": "xxce_R6bhhzb"
   },
   "source": [
    "---\n",
    "> P-067: 商品データフレーム（product_df）の各商品について、利益率が30%となる新たな単価を求めよ。  \n",
    "今回は、1円未満を切り上げること。  \n",
    "そして結果を10件表示させ、利益率がおよそ30％付近であることを確認せよ。ただし、単価（unit_price）と原価（unit_cost）にはNULLが存在することに注意せよ。"
   ]
  },
  {
   "cell_type": "code",
   "execution_count": null,
   "metadata": {
    "colab": {
     "base_uri": "https://localhost:8080/",
     "height": 359
    },
    "id": "3rMUdEF6hhzb",
    "outputId": "57ab8233-7daf-4301-f11f-035b5c064768"
   },
   "outputs": [],
   "source": []
  },
  {
   "cell_type": "markdown",
   "metadata": {
    "id": "CnpgvfPThhzd"
   },
   "source": [
    "---\n",
    "> P-068: 商品データフレーム（product_df）の各商品について、消費税率10%の税込み金額を求めよ。  \n",
    "1円未満の端数は切り捨てとし、結果は10件表示すれば良い。ただし、単価（unit_price）にはNULLが存在することに注意せよ。"
   ]
  },
  {
   "cell_type": "code",
   "execution_count": null,
   "metadata": {
    "colab": {
     "base_uri": "https://localhost:8080/",
     "height": 359
    },
    "id": "pAlTEkKHhhzd",
    "outputId": "730d92b1-c363-4797-e4ab-92f6d272198a"
   },
   "outputs": [],
   "source": []
  },
  {
   "cell_type": "markdown",
   "metadata": {
    "id": "zEABVDKXhhze"
   },
   "source": [
    "---\n",
    "> P-069: レシート明細データフレーム（receipt_df）と商品データフレーム（product_df）を結合し、顧客毎に全商品の売上金額合計と、カテゴリ大区分（category_major_cd）が\"07\"（瓶詰缶詰）の売上金額合計を計算の上、両者の比率を求めよ。  \n",
    "抽出対象はカテゴリ大区分\"07\"（瓶詰缶詰）の購入実績がある顧客のみとし、結果は10件表示させればよい。"
   ]
  },
  {
   "cell_type": "code",
   "execution_count": null,
   "metadata": {
    "colab": {
     "base_uri": "https://localhost:8080/",
     "height": 390
    },
    "id": "FL33wGUMhhze",
    "outputId": "9fe56b63-8208-48f0-c599-7c4394bfd1aa"
   },
   "outputs": [],
   "source": []
  },
  {
   "cell_type": "markdown",
   "metadata": {
    "id": "ZEAiLMTShhzf"
   },
   "source": [
    "---\n",
    "> P-070: レシート明細データフレーム（receipt_df）の売上日（sales_ymd）に対し、顧客データフレーム（customer_df）の会員申込日（application_date）からの経過日数を計算し、顧客ID（customer_id）、売上日、会員申込日とともに表示せよ。  \n",
    "結果は10件表示させれば良い。"
   ]
  },
  {
   "cell_type": "code",
   "execution_count": null,
   "metadata": {
    "colab": {
     "base_uri": "https://localhost:8080/",
     "height": 359
    },
    "id": "kvzQzXuShhzf",
    "outputId": "55cb9378-86c3-4db4-ee30-f906dbedbe07"
   },
   "outputs": [],
   "source": []
  },
  {
   "cell_type": "markdown",
   "metadata": {
    "id": "HsMXQZXshhzg"
   },
   "source": [
    "---\n",
    "> P-071: レシート明細データフレーム（receipt_df）の売上日（sales_ymd）に対し、顧客データフレーム（customer_df）の会員申込日（application_date）からの経過月数を計算し、顧客ID（customer_id）、売上日、会員申込日とともに表示せよ。  \n",
    "結果は10件表示させれば良い。1ヶ月未満は切り捨てること。  \n",
    "また、月数計算には monthdelta パッケージを使用すること（※要インストール）"
   ]
  },
  {
   "cell_type": "code",
   "execution_count": null,
   "metadata": {
    "colab": {
     "base_uri": "https://localhost:8080/",
     "height": 359
    },
    "id": "go_c1NKxhhzh",
    "outputId": "052926d4-1d73-4309-aa31-e1fe74537855"
   },
   "outputs": [],
   "source": []
  },
  {
   "cell_type": "markdown",
   "metadata": {
    "id": "uRcwkWA6hhzi"
   },
   "source": [
    "---\n",
    "> P-072: レシート明細データフレーム（receipt_df）の売上日（sales_ymd）に対し、顧客データフレーム（customer_df）の会員申込日（application_date）からの経過年数を計算し、顧客ID（customer_id）、売上日、会員申込日とともに表示せよ。  \n",
    "結果は10件表示させれば良い。1年未満は切り捨てること。"
   ]
  },
  {
   "cell_type": "code",
   "execution_count": null,
   "metadata": {
    "colab": {
     "base_uri": "https://localhost:8080/",
     "height": 359
    },
    "id": "Z5-u-KYhhhzi",
    "outputId": "a69f72aa-85e2-41a7-8927-ebfa211085fb"
   },
   "outputs": [],
   "source": []
  },
  {
   "cell_type": "markdown",
   "metadata": {
    "id": "-PsOPZZBhhzj"
   },
   "source": [
    "---\n",
    "> P-073: レシート明細データフレーム（receipt_df）の売上日（sales_ymd）に対し、顧客データフレーム（customer_df）の会員申込日（application_date）からのエポック秒による経過時間を計算し、顧客ID（customer_id）、売上日、会員申込日とともに表示せよ。  \n",
    "結果は10件表示させれば良い（なお、sales_ymdは数値、application_dateは文字列でデータを保持している点に注意）。なお、時間情報は保有していないため各日付は0時0分0秒を表すものとする。"
   ]
  },
  {
   "cell_type": "code",
   "execution_count": null,
   "metadata": {
    "colab": {
     "base_uri": "https://localhost:8080/",
     "height": 359
    },
    "id": "vUrvuOBfhhzj",
    "outputId": "8b7076a7-cd1c-4862-8802-a144672746fc"
   },
   "outputs": [],
   "source": []
  },
  {
   "cell_type": "markdown",
   "metadata": {
    "id": "u_8UNALZhhzk"
   },
   "source": [
    "---\n",
    "> P-074: レシート明細データフレーム（receipt_df）の売上日（sales_ymd）に対し、当該週の月曜日からの経過日数を計算し、売上日、当該週の月曜日付とともに表示せよ。  \n",
    "結果は10件表示させれば良い。  \n",
    "但し、週の初めは月曜日とする。"
   ]
  },
  {
   "cell_type": "code",
   "execution_count": null,
   "metadata": {
    "colab": {
     "base_uri": "https://localhost:8080/",
     "height": 359
    },
    "id": "mCtL5g4mhhzk",
    "outputId": "7c6047b9-4e98-477f-cba5-5d1bfcdf4c44"
   },
   "outputs": [],
   "source": []
  },
  {
   "cell_type": "markdown",
   "metadata": {
    "id": "2Jxo_7quhhzl"
   },
   "source": [
    "---\n",
    "> P-075: 顧客データフレーム（customer_df）からランダムに1%のデータを抽出し、先頭から10件データを抽出せよ。"
   ]
  },
  {
   "cell_type": "code",
   "execution_count": null,
   "metadata": {
    "colab": {
     "base_uri": "https://localhost:8080/",
     "height": 359
    },
    "id": "IlLf0t38hhzl",
    "outputId": "b525fada-8c5e-4e6e-feeb-84e424241364"
   },
   "outputs": [],
   "source": []
  },
  {
   "cell_type": "markdown",
   "metadata": {
    "id": "aln1Xt5ghhzm"
   },
   "source": [
    "---\n",
    "> P-076: 顧客データフレーム（customer_df）から性別（gender_cd）の割合に基づきランダムに10%のデータを層化抽出データし、性別ごとに件数を集計せよ。"
   ]
  },
  {
   "cell_type": "code",
   "execution_count": null,
   "metadata": {
    "colab": {
     "base_uri": "https://localhost:8080/",
     "height": 173
    },
    "id": "RbrjkGllhhzm",
    "outputId": "aeef083c-c871-4edd-946e-4c976ca326ba"
   },
   "outputs": [],
   "source": []
  },
  {
   "cell_type": "markdown",
   "metadata": {
    "id": "VPRFv68Jhhzn"
   },
   "source": [
    "## 第六回\n",
    "---\n",
    "> P-077: レシート明細データフレーム（receipt_df）の売上金額（amount）を顧客単位に合計し、合計した売上金額の外れ値を抽出せよ。  \n",
    "ただし、顧客IDが\"Z\"から始まるのものは非会員を表すため、除外して計算すること。なお、ここでは外れ値を平均から3σ以上離れたものとする。結果は10件表示させれば良い。"
   ]
  },
  {
   "cell_type": "code",
   "execution_count": null,
   "metadata": {
    "colab": {
     "base_uri": "https://localhost:8080/",
     "height": 390
    },
    "id": "7_EgePw6hhzn",
    "outputId": "5e661634-ea93-43d5-a0cd-f375bf77e285"
   },
   "outputs": [],
   "source": []
  },
  {
   "cell_type": "markdown",
   "metadata": {
    "id": "BatcRBrehhzp"
   },
   "source": [
    "---\n",
    "> P-078: レシート明細データフレーム（receipt_df）の売上金額（amount）を顧客単位に合計し、合計した売上金額の外れ値を抽出せよ。  \n",
    "ただし、顧客IDが\"Z\"から始まるのものは非会員を表すため、除外して計算すること。  \n",
    "なお、ここでは外れ値を第一四分位と第三四分位の差であるIQRを用いて、「第一四分位数-1.5×IQR」よりも下回るもの、または「第三四分位数+1.5×IQR」を超えるものとする。  \n",
    "結果は10件表示させれば良い。"
   ]
  },
  {
   "cell_type": "code",
   "execution_count": null,
   "metadata": {
    "colab": {
     "base_uri": "https://localhost:8080/",
     "height": 390
    },
    "id": "4RvDfhvChhzp",
    "outputId": "61fb33d4-f88a-4d69-d02a-10317fef5c8a"
   },
   "outputs": [],
   "source": []
  },
  {
   "cell_type": "markdown",
   "metadata": {
    "id": "boe923CMhhzq"
   },
   "source": [
    "---\n",
    "> P-079: 商品データフレーム（product_df）の各項目に対し、欠損数を確認せよ。"
   ]
  },
  {
   "cell_type": "code",
   "execution_count": null,
   "metadata": {
    "colab": {
     "base_uri": "https://localhost:8080/",
     "height": 235
    },
    "id": "bxl__vC5hhzq",
    "outputId": "29abfb6c-6f5b-49b9-d6a0-c8afa5db05c9"
   },
   "outputs": [],
   "source": []
  },
  {
   "cell_type": "markdown",
   "metadata": {
    "id": "afprSqIvhhzs"
   },
   "source": [
    "---\n",
    "> P-080: 商品データフレーム（product_df）のいずれかの項目に欠損が発生しているレコードを全て削除した新たなproduct_df_1を作成せよ。  \n",
    "なお、削除前後の件数を表示させ、前設問で確認した件数だけ減少していることも確認すること。"
   ]
  },
  {
   "cell_type": "code",
   "execution_count": null,
   "metadata": {
    "colab": {
     "base_uri": "https://localhost:8080/"
    },
    "id": "q3_9sLdHhhzt",
    "outputId": "d18d36eb-67de-4300-edfc-0b9eb73acbbc"
   },
   "outputs": [],
   "source": []
  },
  {
   "cell_type": "markdown",
   "metadata": {
    "id": "GtiO20ZKhhzu"
   },
   "source": [
    "---\n",
    "> P-081: 単価（unit_price）と原価（unit_cost）の欠損値について、それぞれの平均値で補完した新たなproduct_df_2を作成せよ。  \n",
    "なお、平均値について1円未満は四捨五入とし、0.5については偶数寄せでかまわない。  \n",
    "補完実施後、各項目について欠損が生じていないことも確認すること。"
   ]
  },
  {
   "cell_type": "code",
   "execution_count": null,
   "metadata": {
    "colab": {
     "base_uri": "https://localhost:8080/",
     "height": 235
    },
    "id": "puFf-7Ewhhzu",
    "outputId": "75dce419-0893-420e-9cb9-57ca2b3e05c0"
   },
   "outputs": [],
   "source": []
  },
  {
   "cell_type": "markdown",
   "metadata": {
    "id": "i7x6WAJ2hhzv"
   },
   "source": [
    "---\n",
    "> P-082: 単価（unit_price）と原価（unit_cost）の欠損値について、それぞれの中央値で補完した新たなproduct_df_3を作成せよ。  \n",
    "なお、中央値について1円未満は四捨五入とし、0.5については偶数寄せでかまわない。  \n",
    "補完実施後、各項目について欠損が生じていないことも確認すること。"
   ]
  },
  {
   "cell_type": "code",
   "execution_count": null,
   "metadata": {
    "colab": {
     "base_uri": "https://localhost:8080/",
     "height": 235
    },
    "id": "Meng_cTIhhzv",
    "outputId": "f43d2b20-7490-47e4-f2a0-83e04ad32fa1"
   },
   "outputs": [],
   "source": []
  },
  {
   "cell_type": "markdown",
   "metadata": {
    "id": "kXCIpqm4hhzw"
   },
   "source": [
    "---\n",
    "> P-083: 単価（unit_price）と原価（unit_cost）の欠損値について、各商品の小区分（category_small_cd）ごとに算出した中央値で補完した新たなproduct_df_4を作成せよ。  \n",
    "なお、中央値について1円未満は四捨五入とし、0.5については偶数寄せでかまわない。  \n",
    "補完実施後、各項目について欠損が生じていないことも確認すること。"
   ]
  },
  {
   "cell_type": "code",
   "execution_count": null,
   "metadata": {
    "colab": {
     "base_uri": "https://localhost:8080/",
     "height": 235
    },
    "id": "Qeq1bChyhhzw",
    "outputId": "386fc9b6-0e24-4223-ce27-6b0070cbdd32"
   },
   "outputs": [],
   "source": []
  },
  {
   "cell_type": "markdown",
   "metadata": {
    "id": "kKqZ8U_ihhzx"
   },
   "source": [
    "---\n",
    "> P-084: 顧客データフレーム（customer_df）の全顧客に対し、全期間の売上金額に占める2019年売上金額の割合を計算せよ。  \n",
    "ただし、販売実績のない場合は0として扱うこと。そして計算した割合が0超のものを抽出せよ。  \n",
    "結果は10件表示させれば良い。また、作成したデータにNAやNANが存在しないことを確認せよ。"
   ]
  },
  {
   "cell_type": "code",
   "execution_count": null,
   "metadata": {
    "colab": {
     "base_uri": "https://localhost:8080/",
     "height": 419
    },
    "id": "Rtq3Y8Gxhhzx",
    "outputId": "a84033a0-e560-4f96-a4ee-89f98ddd0b4f"
   },
   "outputs": [],
   "source": []
  },
  {
   "cell_type": "markdown",
   "metadata": {
    "id": "UEPE0K-rhhzy"
   },
   "source": [
    "---\n",
    "> P-085: 顧客データフレーム（customer_df）の全顧客に対し、郵便番号（postal_cd）を用いて経度緯度変換用データフレーム（geocode_df）を紐付け、新たなcustomer_df_1を作成せよ。  \n",
    "ただし、複数紐づく場合は経度（longitude）、緯度（latitude）それぞれ平均を算出すること。\n"
   ]
  },
  {
   "cell_type": "code",
   "execution_count": null,
   "metadata": {
    "colab": {
     "base_uri": "https://localhost:8080/",
     "height": 419
    },
    "id": "P_paWqODhhzy",
    "outputId": "ab5209da-c0c3-4f47-c27d-2f65defe82a9"
   },
   "outputs": [],
   "source": []
  },
  {
   "cell_type": "markdown",
   "metadata": {
    "id": "dJ8IvUgNhhzz"
   },
   "source": [
    "---\n",
    "> P-086: 前設問で作成した緯度経度つき顧客データフレーム（customer_df_1）に対し、申込み店舗コード（application_store_cd）をキーに店舗データフレーム（store_df）と結合せよ。  \n",
    "そして申込み店舗の緯度（latitude）・経度情報（longitude)と顧客の緯度・経度を用いて距離（km）を求め、顧客ID（customer_id）、顧客住所（address）、店舗住所（address）とともに表示せよ。  \n",
    "計算式は簡易式で良いものとするが、その他精度の高い方式を利用したライブラリを利用してもかまわない。結果は10件表示すれば良い。"
   ]
  },
  {
   "cell_type": "markdown",
   "metadata": {
    "id": "kFydo3tChhzz"
   },
   "source": [
    "$$\n",
    "緯度（ラジアン）：\\phi \\\\\n",
    "経度（ラジアン）：\\lambda \\\\\n",
    "距離L = 6371 * arccos(sin \\phi_1 * sin \\phi_2\n",
    "+ cos \\phi_1 * cos \\phi_2 * cos(\\lambda_1 − \\lambda_2))\n",
    "$$"
   ]
  },
  {
   "cell_type": "code",
   "execution_count": null,
   "metadata": {
    "colab": {
     "base_uri": "https://localhost:8080/",
     "height": 359
    },
    "id": "YOhgdXTphhz0",
    "outputId": "e4369cbd-a568-4ed5-9a6e-e06d42da831f"
   },
   "outputs": [],
   "source": []
  },
  {
   "cell_type": "markdown",
   "metadata": {
    "id": "-7BBzLWphhz0"
   },
   "source": [
    "## 第七回\n",
    "---\n",
    "> P-087:  顧客データフレーム（customer_df）では、異なる店舗での申込みなどにより同一顧客が複数登録されている。  \n",
    "名前（customer_name）と郵便番号（postal_cd）が同じ顧客は同一顧客とみなし、1顧客1レコードとなるように名寄せした名寄顧客データフレーム（customer_df_u）を作成せよ。  \n",
    "ただし、同一顧客に対しては売上金額合計が最も高いものを残すものとし、売上金額合計が同一もしくは売上実績の無い顧客については顧客ID（customer_id）の番号が小さいものを残すこととする。"
   ]
  },
  {
   "cell_type": "code",
   "execution_count": null,
   "metadata": {
    "colab": {
     "base_uri": "https://localhost:8080/",
     "height": 419
    },
    "id": "hJhzgvxuhhz0",
    "outputId": "e0393b6e-d6fe-41af-dd48-3ec66549e204"
   },
   "outputs": [],
   "source": []
  },
  {
   "cell_type": "markdown",
   "metadata": {
    "id": "U4ojNt4shhz1"
   },
   "source": [
    "---\n",
    "> P-088: 前設問で作成したデータを元に、顧客データフレームに統合名寄IDを付与したデータフレーム（customer_df_n）を作成せよ。ただし、統合名寄IDは以下の仕様で付与するものとする。\n",
    ">\n",
    "> - 重複していない顧客：顧客ID（customer_id）を設定\n",
    "> - 重複している顧客：前設問で抽出したレコードの顧客IDを設定"
   ]
  },
  {
   "cell_type": "code",
   "execution_count": null,
   "metadata": {
    "colab": {
     "base_uri": "https://localhost:8080/",
     "height": 419
    },
    "id": "G8xkmVEnhhz2",
    "outputId": "55597a6e-6979-433f-bbd3-ea78456d7636"
   },
   "outputs": [],
   "source": []
  },
  {
   "cell_type": "markdown",
   "metadata": {
    "id": "jGzIjQvfhhz4"
   },
   "source": [
    "---\n",
    "> P-089: 売上実績のある顧客に対し、予測モデル構築のため学習用データとテスト用データに分割したい。それぞれ8:2の割合でランダムにデータを分割せよ。"
   ]
  },
  {
   "cell_type": "code",
   "execution_count": null,
   "metadata": {
    "colab": {
     "base_uri": "https://localhost:8080/"
    },
    "id": "tQfblHJFhhz4",
    "outputId": "57e9581c-bd25-4b17-838c-adb13d3ee975"
   },
   "outputs": [],
   "source": []
  },
  {
   "cell_type": "markdown",
   "metadata": {
    "id": "NIl5LRhbhhz6"
   },
   "source": [
    "---\n",
    "> P-090: 顧客データフレーム（customer_df）の各顧客に対し、売上実績のある顧客数と売上実績のない顧客数が1:1となるようにアンダーサンプリングで抽出せよ。"
   ]
  },
  {
   "cell_type": "code",
   "execution_count": null,
   "metadata": {},
   "outputs": [],
   "source": []
  },
  {
   "cell_type": "markdown",
   "metadata": {
    "id": "LAzWjKmHhhz9"
   },
   "source": [
    "---\n",
    "> P-091: 顧客データフレーム（customer_df）では、性別に関する情報が非正規化の状態で保持されている。これを第三正規化せよ。"
   ]
  },
  {
   "cell_type": "code",
   "execution_count": null,
   "metadata": {},
   "outputs": [],
   "source": []
  },
  {
   "cell_type": "markdown",
   "metadata": {
    "id": "u8OEQQikhhz-"
   },
   "source": [
    "---\n",
    "> P-092: 商品データフレーム（product_df）では各カテゴリのコード値だけを保有し、カテゴリ名は保有していない。   \n",
    "カテゴリデータフレーム（category_df）と組み合わせて非正規化し、カテゴリ名を保有した新たな商品データフレームを作成せよ。"
   ]
  },
  {
   "cell_type": "code",
   "execution_count": null,
   "metadata": {
    "colab": {
     "base_uri": "https://localhost:8080/",
     "height": 419
    },
    "id": "mbOy7QIQhhz-",
    "outputId": "cc704d67-9cd3-4e78-8e14-cc2bcbfffd15"
   },
   "outputs": [],
   "source": []
  },
  {
   "cell_type": "markdown",
   "metadata": {
    "id": "WBQfMWaThhz_"
   },
   "source": [
    "---\n",
    "> P-093: 先に作成したカテゴリ名付き商品データを以下の仕様でファイル出力せよ。なお、出力先のパスはdata配下とする。\n",
    "> \n",
    ">\n",
    "> - ファイル形式はCSV（カンマ区切り）\n",
    "> - ヘッダ有り\n",
    "> - 文字コードはUTF-8"
   ]
  },
  {
   "cell_type": "code",
   "execution_count": null,
   "metadata": {
    "id": "J6OWEZw7oVZS"
   },
   "outputs": [],
   "source": []
  },
  {
   "cell_type": "markdown",
   "metadata": {
    "id": "OwHfilB2hh0B"
   },
   "source": [
    "---\n",
    "> P-094: 先に作成したカテゴリ名付き商品データを以下の仕様でファイル出力せよ。なお、出力先のパスはdata配下とする。\n",
    ">\n",
    "> - ファイル形式はCSV（カンマ区切り）\n",
    "> - ヘッダ有り\n",
    "> - 文字コードはCP932"
   ]
  },
  {
   "cell_type": "code",
   "execution_count": null,
   "metadata": {
    "id": "R_A_MhTYhh0C"
   },
   "outputs": [],
   "source": []
  },
  {
   "cell_type": "markdown",
   "metadata": {
    "id": "ijN5gi_Nhh0C"
   },
   "source": [
    "---\n",
    "> P-095: 先に作成したカテゴリ名付き商品データを以下の仕様でファイル出力せよ。なお、出力先のパスはdata配下とする。\n",
    ">\n",
    "> - ファイル形式はCSV（カンマ区切り）\n",
    "> - ヘッダ無し\n",
    "> - 文字コードはUTF-8"
   ]
  },
  {
   "cell_type": "code",
   "execution_count": null,
   "metadata": {
    "id": "HRMFIbjNhh0C"
   },
   "outputs": [],
   "source": []
  },
  {
   "cell_type": "markdown",
   "metadata": {
    "id": "EGEj2Gfohh0D"
   },
   "source": [
    "---\n",
    "> P-096: 先に作成した以下形式のファイルを読み込み、データフレームを作成せよ。また、先頭10件を表示させ、正しくとりまれていることを確認せよ。\n",
    ">\n",
    "> - ファイル形式はCSV（カンマ区切り）\n",
    "> - ヘッダ有り\n",
    "> - 文字コードはUTF-8"
   ]
  },
  {
   "cell_type": "code",
   "execution_count": null,
   "metadata": {
    "colab": {
     "base_uri": "https://localhost:8080/",
     "height": 359
    },
    "id": "elyUH6_2hh0D",
    "outputId": "faacb27b-7982-46c2-e5da-72fa8e64b3ba"
   },
   "outputs": [],
   "source": []
  },
  {
   "cell_type": "markdown",
   "metadata": {
    "id": "v51_UZ-Ahh0E"
   },
   "source": [
    "---\n",
    "> P-097: 先に作成した以下形式のファイルを読み込み、データフレームを作成せよ。また、先頭10件を表示させ、正しくとりまれていることを確認せよ。\n",
    ">\n",
    "> - ファイル形式はCSV（カンマ区切り）\n",
    "> - ヘッダ無し\n",
    "> - 文字コードはUTF-8"
   ]
  },
  {
   "cell_type": "code",
   "execution_count": null,
   "metadata": {
    "colab": {
     "base_uri": "https://localhost:8080/",
     "height": 359
    },
    "id": "4YBgcGjuhh0E",
    "outputId": "517edae2-61b0-4b21-9d38-b2c7d8c8bd57"
   },
   "outputs": [],
   "source": []
  },
  {
   "cell_type": "markdown",
   "metadata": {
    "id": "PgrSkEmuhh0F"
   },
   "source": [
    "---\n",
    "> P-098: 先に作成したカテゴリ名付き商品データを以下の仕様でファイル出力せよ。なお、出力先のパスはdata配下とする。\n",
    ">\n",
    "> - ファイル形式はpickle"
   ]
  },
  {
   "cell_type": "code",
   "execution_count": null,
   "metadata": {
    "id": "WrdmX0mihh0F"
   },
   "outputs": [],
   "source": []
  },
  {
   "cell_type": "markdown",
   "metadata": {
    "id": "fRhhcyMuhh0G"
   },
   "source": [
    "---\n",
    "> P-099: 先に作成した以下形式のファイルを読み込み、データフレームを作成せよ。また、先頭10件を表示させ、正しくとりまれていることを確認せよ。\n",
    ">\n",
    "> - ファイル形式はpickle"
   ]
  },
  {
   "cell_type": "code",
   "execution_count": null,
   "metadata": {
    "colab": {
     "base_uri": "https://localhost:8080/",
     "height": 359
    },
    "id": "PrE1Dn_7hh0G",
    "outputId": "d4a5cb0e-c5da-4903-a22b-8156f69aa8cc"
   },
   "outputs": [],
   "source": []
  },
  {
   "cell_type": "markdown",
   "metadata": {
    "id": "0O8VN432OWFZ"
   },
   "source": [
    "---\n",
    "> P-100: dataフォルダ配下にある以下のpickle化されたデータを読み込み、データフレームを作成せよ。  \n",
    "変数名はファイル名から拡張子を除いたものとし、for文で動的に変数を定義せよ。\n",
    "- category_df.pkl\n",
    "- customer_df.pkl\n",
    "- geocode_df.pkl\n",
    "- product_df.pkl\n",
    "- receipt_df.pkl\n",
    "- store_df.pkl"
   ]
  },
  {
   "cell_type": "code",
   "execution_count": null,
   "metadata": {},
   "outputs": [],
   "source": []
  },
  {
   "cell_type": "markdown",
   "metadata": {
    "id": "WGSLC2Szhh0H"
   },
   "source": [
    "# これで１００本終わりです。おつかれさまでした！"
   ]
  }
 ],
 "metadata": {
  "colab": {
   "collapsed_sections": [
    "WGSLC2Szhh0H"
   ],
   "name": "100本ノック（伊勢回答）",
   "provenance": []
  },
  "kernelspec": {
   "display_name": "Python 3 (ipykernel)",
   "language": "python",
   "name": "python3"
  },
  "language_info": {
   "codemirror_mode": {
    "name": "ipython",
    "version": 3
   },
   "file_extension": ".py",
   "mimetype": "text/x-python",
   "name": "python",
   "nbconvert_exporter": "python",
   "pygments_lexer": "ipython3",
   "version": "3.9.7"
  }
 },
 "nbformat": 4,
 "nbformat_minor": 4
}
